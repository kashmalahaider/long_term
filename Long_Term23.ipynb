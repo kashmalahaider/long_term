{
 "cells": [
  {
   "cell_type": "code",
   "execution_count": 1,
   "id": "18f7421c-a7a9-418b-aa53-1817b8382dee",
   "metadata": {
    "scrolled": true
   },
   "outputs": [
    {
     "name": "stdout",
     "output_type": "stream",
     "text": [
      "2002,2009,2016,2023,2037,2044,2051,2058,2072,2079,2086,2093,2107,2114,2121,2128,2142,2149,2156,2163,2177,2184,2191,2198,2212,2219,2226,2233,2247,2254,2261,2268,2282,2289,2296,2303,2317,2324,2331,2338,2352,2359,2366,2373,2387,2394,2401,2408,2422,2429,2436,2443,2457,2464,2471,2478,2492,2499,2506,2513,2527,2534,2541,2548,2562,2569,2576,2583,2597,2604,2611,2618,2632,2639,2646,2653,2667,2674,2681,2688,2702,2709,2716,2723,2737,2744,2751,2758,2772,2779,2786,2793,2807,2814,2821,2828,2842,2849,2856,2863,2877,2884,2891,2898,2912,2919,2926,2933,2947,2954,2961,2968,2982,2989,2996,3003,3017,3024,3031,3038,3052,3059,3066,3073,3087,3094,3101,3108,3122,3129,3136,3143,3157,3164,3171,3178,3192,3199,"
     ]
    }
   ],
   "source": [
    "#Question no 01:\n",
    "\n",
    "for num in range(2000,3201):\n",
    "    if num % 7 == 0 and num % 5 != 0:\n",
    "        print(num, end=',')"
   ]
  },
  {
   "cell_type": "code",
   "execution_count": 4,
   "id": "207d75c4-febb-4cd0-a30c-58e8d8a3ede0",
   "metadata": {},
   "outputs": [
    {
     "name": "stdin",
     "output_type": "stream",
     "text": [
      "Enter a number:  8\n"
     ]
    },
    {
     "name": "stdout",
     "output_type": "stream",
     "text": [
      "1,2,6,24,120,720,5040,40320,"
     ]
    }
   ],
   "source": [
    "#Question no 02:\n",
    "\n",
    "num = int(input(\"Enter a number: \"))\n",
    "for i in range(1, num + 1):\n",
    "    result = 1\n",
    "    for j in range(1, i + 1):\n",
    "        result *= j\n",
    "    print(result, end=',')\n"
   ]
  },
  {
   "cell_type": "code",
   "execution_count": 5,
   "id": "29c1e569-0630-409e-af65-2563cbac4153",
   "metadata": {},
   "outputs": [
    {
     "name": "stdin",
     "output_type": "stream",
     "text": [
      "Enter a number:  8\n"
     ]
    },
    {
     "name": "stdout",
     "output_type": "stream",
     "text": [
      "{1: 1, 2: 4, 3: 9, 4: 16, 5: 25, 6: 36, 7: 49, 8: 64}\n"
     ]
    }
   ],
   "source": [
    "#Question no 03:\n",
    "\n",
    "n = int(input(\"Enter a number: \"))\n",
    "dict_result = {}\n",
    "for i in range(1, n + 1):\n",
    "    dict_result[i] = i * i\n",
    "print(dict_result)"
   ]
  },
  {
   "cell_type": "code",
   "execution_count": 6,
   "id": "8d2bbdd4-7714-48ad-a973-2a4150ce3931",
   "metadata": {},
   "outputs": [
    {
     "name": "stdin",
     "output_type": "stream",
     "text": [
      "Enter a sequence of comma-separated numbers:  34,67,55,33,12,98\n"
     ]
    },
    {
     "name": "stdout",
     "output_type": "stream",
     "text": [
      "['34', '67', '55', '33', '12', '98']\n",
      "('34', '67', '55', '33', '12', '98')\n"
     ]
    }
   ],
   "source": [
    "#Question no 04:\n",
    "\n",
    "user_input = input(\"Enter a sequence of comma-separated numbers: \")\n",
    "num_list = user_input.split(\",\")\n",
    "num_tuple = tuple(num_list)\n",
    "print(num_list)\n",
    "print(num_tuple)"
   ]
  },
  {
   "cell_type": "code",
   "execution_count": 7,
   "id": "b0870b81-bce1-4af4-84fc-8caf17aa55ed",
   "metadata": {},
   "outputs": [
    {
     "name": "stdin",
     "output_type": "stream",
     "text": [
      "Enter a string:  hello pakistan\n"
     ]
    },
    {
     "name": "stdout",
     "output_type": "stream",
     "text": [
      "HELLO PAKISTAN\n"
     ]
    }
   ],
   "source": [
    "#Question no 05:\n",
    "\n",
    "class StringProcessor:\n",
    "    def __init__(self):\n",
    "        self.input_string = \"\"\n",
    "\n",
    "    def getString(self):\n",
    "        self.input_string = input(\"Enter a string: \")\n",
    "\n",
    "    def printString(self):\n",
    "        print(self.input_string.upper())\n",
    "\n",
    "\n",
    "def test_string_processor():\n",
    "    sp = StringProcessor()\n",
    "    sp.getString()\n",
    "    sp.printString()\n",
    "\n",
    "\n",
    "test_string_processor()\n"
   ]
  },
  {
   "cell_type": "code",
   "execution_count": 8,
   "id": "940c09bc-a1a9-49ee-a97b-5a09367a8cae",
   "metadata": {},
   "outputs": [
    {
     "name": "stdin",
     "output_type": "stream",
     "text": [
      "Enter the values of D (comma-separated):  100,150,180\n"
     ]
    },
    {
     "name": "stdout",
     "output_type": "stream",
     "text": [
      "18,22,24\n"
     ]
    }
   ],
   "source": [
    "#Question no 06:\n",
    "\n",
    "C = 50\n",
    "H = 30\n",
    "input_sequence = input(\"Enter the values of D (comma-separated): \")\n",
    "D_values = input_sequence.split(\",\")\n",
    "results = []\n",
    "for D in D_values:\n",
    "    Q = ((2 * C * int(D)) / H) ** 0.5\n",
    "    results.append(int(Q))\n",
    "print(*results, sep=',')"
   ]
  },
  {
   "cell_type": "code",
   "execution_count": 9,
   "id": "e7203972-1580-41aa-a644-8b73ff2d9978",
   "metadata": {},
   "outputs": [
    {
     "name": "stdin",
     "output_type": "stream",
     "text": [
      "Enter the values of X and Y (comma-separated):  3,5\n"
     ]
    },
    {
     "name": "stdout",
     "output_type": "stream",
     "text": [
      "[[0, 0, 0, 0, 0], [0, 1, 2, 3, 4], [0, 2, 4, 6, 8]]\n"
     ]
    }
   ],
   "source": [
    "#Question no 07:\n",
    "\n",
    "X, Y = input(\"Enter the values of X and Y (comma-separated): \").split(\",\")\n",
    "X = int(X)\n",
    "Y = int(Y)\n",
    "array = []\n",
    "for i in range(X):\n",
    "    row = []\n",
    "    for j in range(Y):\n",
    "        row.append(i * j)\n",
    "    array.append(row)\n",
    "print(array)"
   ]
  },
  {
   "cell_type": "code",
   "execution_count": 10,
   "id": "0c7f0a6d-943d-41b8-9acf-db362a656231",
   "metadata": {},
   "outputs": [
    {
     "name": "stdin",
     "output_type": "stream",
     "text": [
      "Enter a comma-separated sequence of words:  without,hello,bag,world\n"
     ]
    },
    {
     "name": "stdout",
     "output_type": "stream",
     "text": [
      "bag,hello,without,world\n"
     ]
    }
   ],
   "source": [
    "#Question no 08:\n",
    "\n",
    "words = input(\"Enter a comma-separated sequence of words: \")\n",
    "word_list = words.split(\",\")\n",
    "word_list.sort()\n",
    "sorted_words = \",\".join(word_list)\n",
    "print(sorted_words)"
   ]
  },
  {
   "cell_type": "code",
   "execution_count": 11,
   "id": "b9af197e-9662-4ead-896f-bef178eda5ee",
   "metadata": {},
   "outputs": [
    {
     "name": "stdin",
     "output_type": "stream",
     "text": [
      " Hello world Practice makes perfect\n",
      " \n"
     ]
    },
    {
     "name": "stdout",
     "output_type": "stream",
     "text": [
      "HELLO WORLD PRACTICE MAKES PERFECT\n"
     ]
    }
   ],
   "source": [
    "#Question no 09:\n",
    "\n",
    "lines = []\n",
    "while True:\n",
    "    s = input()\n",
    "    if s:\n",
    "        lines.append(s.upper())\n",
    "    else:\n",
    "        break\n",
    "\n",
    "for sentence in lines:\n",
    "    print(sentence)"
   ]
  },
  {
   "cell_type": "code",
   "execution_count": 12,
   "id": "1d959ee7-c4f5-40d3-a155-67bed0d58583",
   "metadata": {},
   "outputs": [
    {
     "name": "stdin",
     "output_type": "stream",
     "text": [
      "Enter a sequence of whitespace separated words:  hello world and practice makes perfect and hello world again\n"
     ]
    },
    {
     "name": "stdout",
     "output_type": "stream",
     "text": [
      "again and hello makes perfect practice world\n"
     ]
    }
   ],
   "source": [
    "#Question no 10:\n",
    "\n",
    "input_string = input(\"Enter a sequence of whitespace separated words: \")\n",
    "\n",
    "words = input_string.split()\n",
    "\n",
    "unique_words = []\n",
    "for word in words:\n",
    "    if word not in unique_words:\n",
    "        unique_words.append(word)\n",
    "\n",
    "unique_words.sort()\n",
    "\n",
    "print(\" \".join(unique_words))"
   ]
  },
  {
   "cell_type": "code",
   "execution_count": 13,
   "id": "7c9e7a74-c979-4a77-80ae-6bcd456bd0b1",
   "metadata": {},
   "outputs": [
    {
     "name": "stdin",
     "output_type": "stream",
     "text": [
      "Enter a sequence of comma separated 4 digit binary numbers:  0100,0011,1010,1001\n"
     ]
    },
    {
     "name": "stdout",
     "output_type": "stream",
     "text": [
      "1010\n"
     ]
    }
   ],
   "source": [
    "#Question no 11:\n",
    "\n",
    "input_string = input(\"Enter a sequence of comma separated 4 digit binary numbers: \")\n",
    "\n",
    "binary_numbers = input_string.split(\",\")\n",
    "\n",
    "divisible_by_5 = []\n",
    "\n",
    "for binary_number in binary_numbers:\n",
    "    decimal_number = int(binary_number, 2)\n",
    "    if decimal_number % 5 == 0:\n",
    "        divisible_by_5.append(binary_number)\n",
    "\n",
    "print(\",\".join(divisible_by_5))"
   ]
  },
  {
   "cell_type": "code",
   "execution_count": 14,
   "id": "60a4eb81-6a13-458a-b153-dbc5d01e2cec",
   "metadata": {},
   "outputs": [
    {
     "name": "stdout",
     "output_type": "stream",
     "text": [
      "2000,2002,2004,2006,2008,2020,2022,2024,2026,2028,2040,2042,2044,2046,2048,2060,2062,2064,2066,2068,2080,2082,2084,2086,2088,2200,2202,2204,2206,2208,2220,2222,2224,2226,2228,2240,2242,2244,2246,2248,2260,2262,2264,2266,2268,2280,2282,2284,2286,2288,2400,2402,2404,2406,2408,2420,2422,2424,2426,2428,2440,2442,2444,2446,2448,2460,2462,2464,2466,2468,2480,2482,2484,2486,2488,2600,2602,2604,2606,2608,2620,2622,2624,2626,2628,2640,2642,2644,2646,2648,2660,2662,2664,2666,2668,2680,2682,2684,2686,2688,2800,2802,2804,2806,2808,2820,2822,2824,2826,2828,2840,2842,2844,2846,2848,2860,2862,2864,2866,2868,2880,2882,2884,2886,2888\n"
     ]
    }
   ],
   "source": [
    "#Question no 12:\n",
    "\n",
    "even_numbers = []\n",
    "\n",
    "for number in range(1000, 3001):\n",
    "    even = True\n",
    "    for digit in str(number):\n",
    "        if int(digit) % 2 != 0:\n",
    "            even = False\n",
    "            break\n",
    "    if even:\n",
    "        even_numbers.append(str(number))\n",
    "\n",
    "print(','.join(even_numbers))"
   ]
  },
  {
   "cell_type": "code",
   "execution_count": 15,
   "id": "2603beb5-f003-49a6-bd26-d9cde56abaaf",
   "metadata": {},
   "outputs": [
    {
     "name": "stdin",
     "output_type": "stream",
     "text": [
      "Enter a sentence:  hello world! 123\n"
     ]
    },
    {
     "name": "stdout",
     "output_type": "stream",
     "text": [
      "LETTERS: 10\n",
      "DIGITS: 3\n"
     ]
    }
   ],
   "source": [
    "#question no 13:\n",
    "\n",
    "\n",
    "input_string = input(\"Enter a sentence: \")\n",
    "\n",
    "letters = 0\n",
    "digits = 0\n",
    "\n",
    "for char in input_string:\n",
    "    if char.isalpha():\n",
    "        letters += 1\n",
    "    if char.isdigit():\n",
    "        digits += 1\n",
    "\n",
    "print(\"LETTERS:\", letters)\n",
    "print(\"DIGITS:\", digits)"
   ]
  },
  {
   "cell_type": "code",
   "execution_count": 16,
   "id": "ef512671-b7b5-42bf-83f3-f5bb1897c20d",
   "metadata": {},
   "outputs": [
    {
     "name": "stdin",
     "output_type": "stream",
     "text": [
      "Enter a sentence:  Hello world!\n"
     ]
    },
    {
     "name": "stdout",
     "output_type": "stream",
     "text": [
      "UPPER CASE 1\n",
      "LOWER CASE 9\n"
     ]
    }
   ],
   "source": [
    "#Question no 14:\n",
    "\n",
    "input_string = input(\"Enter a sentence: \")\n",
    "\n",
    "upper_case_count = 0\n",
    "lower_case_count = 0\n",
    "\n",
    "for char in input_string:\n",
    "    if char.isupper():\n",
    "        upper_case_count += 1\n",
    "    elif char.islower():\n",
    "        lower_case_count += 1\n",
    "\n",
    "print(\"UPPER CASE\", upper_case_count)\n",
    "print(\"LOWER CASE\", lower_case_count)\n"
   ]
  },
  {
   "cell_type": "code",
   "execution_count": 17,
   "id": "92ac12b9-8a7b-4df7-87f1-b1f76abf1923",
   "metadata": {},
   "outputs": [
    {
     "name": "stdin",
     "output_type": "stream",
     "text": [
      "Enter a digit:  9\n"
     ]
    },
    {
     "name": "stdout",
     "output_type": "stream",
     "text": [
      "11106\n"
     ]
    }
   ],
   "source": [
    "#Question no 15:\n",
    "\n",
    "a = int(input(\"Enter a digit: \"))\n",
    "\n",
    "result = a + int(str(a) * 2) + int(str(a) * 3) + int(str(a) * 4)\n",
    "\n",
    "print(result)"
   ]
  },
  {
   "cell_type": "code",
   "execution_count": 18,
   "id": "f27b4108-b826-47f8-ac55-6bf47c11f2e9",
   "metadata": {},
   "outputs": [
    {
     "name": "stdin",
     "output_type": "stream",
     "text": [
      "Enter a list of numbers:  1,2,3,4,5,6,7,8,9\n"
     ]
    },
    {
     "name": "stdout",
     "output_type": "stream",
     "text": [
      "1,9,25,49,81\n"
     ]
    }
   ],
   "source": [
    "#Question no 16:\n",
    "\n",
    "numbers = input(\"Enter a list of numbers: \")\n",
    "\n",
    "numbers = numbers.split(',')\n",
    "\n",
    "odd_squares = []\n",
    "\n",
    "for number in numbers:\n",
    "    number = int(number)\n",
    "\n",
    "    if number % 2 != 0:\n",
    "        odd_squares.append(str(number ** 2))\n",
    "\n",
    "\n",
    "print(','.join(odd_squares))"
   ]
  },
  {
   "cell_type": "code",
   "execution_count": 21,
   "id": "0522d712-6db3-4709-8076-56ff88be92b8",
   "metadata": {},
   "outputs": [
    {
     "name": "stdin",
     "output_type": "stream",
     "text": [
      " D 300\n",
      " D 300\n",
      " W 200\n",
      " D 100\n",
      " \n"
     ]
    },
    {
     "name": "stdout",
     "output_type": "stream",
     "text": [
      "500\n"
     ]
    }
   ],
   "source": [
    "#Question no 17:\n",
    "\n",
    "net_amount = 0\n",
    "\n",
    "while True:\n",
    "    transaction = input()\n",
    "    if transaction == \"\":\n",
    "        break\n",
    "    type, amount = transaction.split()\n",
    "    amount = int(amount)\n",
    "    if type == \"D\":\n",
    "        net_amount += amount\n",
    "    elif type == \"W\":\n",
    "        net_amount -= amount\n",
    "\n",
    "print(net_amount)"
   ]
  },
  {
   "cell_type": "code",
   "execution_count": 22,
   "id": "ec9a5d09-3f5d-4fbc-97f9-b3c479a93ab0",
   "metadata": {},
   "outputs": [
    {
     "name": "stdin",
     "output_type": "stream",
     "text": [
      "Enter passwords separated by comma:  ABd1234@1,a F1#,2w3E*,2We3345\n"
     ]
    },
    {
     "name": "stdout",
     "output_type": "stream",
     "text": [
      "ABd1234@1\n"
     ]
    }
   ],
   "source": [
    "#Question no 18:\n",
    "\n",
    "passwords = input(\"Enter passwords separated by comma: \").split(\",\")\n",
    "\n",
    "valid_passwords = []\n",
    "\n",
    "for password in passwords:\n",
    "    has_lower = False\n",
    "    has_upper = False\n",
    "    has_digit = False\n",
    "    has_special = False\n",
    "\n",
    "    for char in password:\n",
    "        if char.islower():\n",
    "            has_lower = True\n",
    "        elif char.isupper():\n",
    "            has_upper = True\n",
    "        elif char.isdigit():\n",
    "            has_digit = True\n",
    "        elif char in ['$', '#', '@']:\n",
    "            has_special = True\n",
    "\n",
    "    if has_lower and has_upper and has_digit and has_special and 6 <= len(password) <= 12:\n",
    "        valid_passwords.append(password)\n",
    "\n",
    "print(\",\".join(valid_passwords))"
   ]
  },
  {
   "cell_type": "code",
   "execution_count": 23,
   "id": "df36313f-13d5-43fb-9f58-16672ca5064c",
   "metadata": {},
   "outputs": [
    {
     "name": "stdin",
     "output_type": "stream",
     "text": [
      "Enter a tuple (name, age, score) or 'q' to quit:  Tom,19,80\n",
      "Enter a tuple (name, age, score) or 'q' to quit:  John,20,90\n",
      "Enter a tuple (name, age, score) or 'q' to quit:  Jony,17,91\n",
      "Enter a tuple (name, age, score) or 'q' to quit:  Jony,17,93\n",
      "Enter a tuple (name, age, score) or 'q' to quit:  Json,21,85\n",
      "Enter a tuple (name, age, score) or 'q' to quit:  Q\n"
     ]
    },
    {
     "name": "stdout",
     "output_type": "stream",
     "text": [
      "Sorted Tuples:\n",
      "[('John', 20, 90), ('Jony', 17, 91), ('Jony', 17, 93), ('Json', 21, 85), ('Tom', 19, 80)]\n"
     ]
    }
   ],
   "source": [
    "#Question no 19:\n",
    "\n",
    "\n",
    "\n",
    "from operator import itemgetter\n",
    "\n",
    "def get_user_input():\n",
    "    tuples = []\n",
    "    while True:\n",
    "        user_input = input(\"Enter a tuple (name, age, score) or 'q' to quit: \")\n",
    "        if user_input.lower() == 'q':\n",
    "            break\n",
    "        name, age, score = user_input.split(',')\n",
    "        tuples.append((name, int(age), int(score)))\n",
    "    return tuples\n",
    "\n",
    "def sort_tuples(tuples):\n",
    "    return sorted(tuples, key=itemgetter(0, 1, 2))\n",
    "\n",
    "tuples = get_user_input()\n",
    "sorted_tuples = sort_tuples(tuples)\n",
    "\n",
    "print(\"Sorted Tuples:\")\n",
    "print(\"[{}]\".format(\", \".join(str(tuple) for tuple in sorted_tuples)))"
   ]
  },
  {
   "cell_type": "code",
   "execution_count": 12,
   "id": "25b4b198-0674-4a82-bf7c-1489b1a8d96d",
   "metadata": {},
   "outputs": [
    {
     "name": "stdin",
     "output_type": "stream",
     "text": [
      " 14\n"
     ]
    },
    {
     "name": "stdout",
     "output_type": "stream",
     "text": [
      "0\n",
      "7\n",
      "14\n"
     ]
    }
   ],
   "source": [
    "#Question no 20:\n",
    "\n",
    "class DivisibleBySeven:\n",
    "    def div_by_seven_gen(self, n):\n",
    "  \n",
    "        for i in range(n + 1):\n",
    "            if i % 7 == 0:\n",
    "                yield i\n",
    "\n",
    "def main():\n",
    "    n = int(input().strip()) \n",
    "    generator = DivisibleBySeven().div_by_seven_gen(n) \n",
    "    for number in generator:\n",
    "        print(number)  \n",
    "\n",
    "if __name__ == \"__main__\":\n",
    "    main()\n"
   ]
  },
  {
   "cell_type": "code",
   "execution_count": 26,
   "id": "f2e7765d-ee55-4495-ac4b-935deac8dcd7",
   "metadata": {},
   "outputs": [
    {
     "name": "stdin",
     "output_type": "stream",
     "text": [
      "Enter movement (e.g., UP 5) or 'done' to finish:  UP 5 \n",
      "Enter movement (e.g., UP 5) or 'done' to finish:  DOWN 3\n",
      "Enter movement (e.g., UP 5) or 'done' to finish:  LEFT 3\n",
      "Enter movement (e.g., UP 5) or 'done' to finish:  RIGHT 2\n",
      "Enter movement (e.g., UP 5) or 'done' to finish:  DONE\n"
     ]
    },
    {
     "name": "stdout",
     "output_type": "stream",
     "text": [
      "Distance from the original point: 2\n"
     ]
    }
   ],
   "source": [
    "#Question no 21:\n",
    "\n",
    "import math\n",
    "\n",
    "def calculate_distance(moves):\n",
    "    x, y = 0, 0\n",
    "    for move in moves:\n",
    "        direction, steps = move.split()\n",
    "        steps = int(steps)\n",
    "        if direction.upper() == 'UP':\n",
    "            y += steps\n",
    "        elif direction.upper() == 'DOWN':\n",
    "            y -= steps\n",
    "        elif direction.upper() == 'LEFT':\n",
    "            x -= steps\n",
    "        elif direction.upper() == 'RIGHT':\n",
    "            x += steps\n",
    "    distance = math.sqrt(x**2 + y**2)\n",
    "    return round(distance)\n",
    "\n",
    "moves = []\n",
    "while True:\n",
    "    move = input(\"Enter movement (e.g., UP 5) or 'done' to finish: \")\n",
    "    if move.lower() == 'done':\n",
    "        break\n",
    "    moves.append(move)\n",
    "    \n",
    "distance = calculate_distance(moves)\n",
    "print(\"Distance from the original point:\", distance)\n"
   ]
  },
  {
   "cell_type": "code",
   "execution_count": 27,
   "id": "506afa61-a02d-4c6b-bba5-ccc13ea3d824",
   "metadata": {},
   "outputs": [
    {
     "name": "stdout",
     "output_type": "stream",
     "text": [
      "Enter a sentence:\n"
     ]
    },
    {
     "name": "stdin",
     "output_type": "stream",
     "text": [
      " New to Python or choosing between Python 2 and Python 3? Read Python 2 or Python 3.\n"
     ]
    },
    {
     "name": "stdout",
     "output_type": "stream",
     "text": [
      "Word frequencies:\n",
      "2: 2\n",
      "3.: 1\n",
      "3?: 1\n",
      "New: 1\n",
      "Python: 5\n",
      "Read: 1\n",
      "and: 1\n",
      "between: 1\n",
      "choosing: 1\n",
      "or: 2\n",
      "to: 1\n"
     ]
    }
   ],
   "source": [
    "#Question no  22:\n",
    "\n",
    "print(\"Enter a sentence:\")\n",
    "input_string = input()\n",
    "\n",
    "words = input_string.split()\n",
    "\n",
    "word_counts = {}\n",
    "for word in words:\n",
    "    if word in word_counts:\n",
    "        word_counts[word] += 1\n",
    "    else:\n",
    "        word_counts[word] = 1\n",
    "\n",
    "sorted_keys = sorted(word_counts)\n",
    "\n",
    "print(\"Word frequencies:\")\n",
    "for key in sorted_keys:\n",
    "    print(f\"{key}: {word_counts[key]}\")\n"
   ]
  },
  {
   "cell_type": "code",
   "execution_count": 28,
   "id": "0aa4d746-5ad2-4ea9-856c-cc94a377142c",
   "metadata": {},
   "outputs": [
    {
     "name": "stdin",
     "output_type": "stream",
     "text": [
      "Enter a number:  7\n"
     ]
    },
    {
     "name": "stdout",
     "output_type": "stream",
     "text": [
      "The square of 7.0 is: 49.0\n"
     ]
    }
   ],
   "source": [
    "#Question no 23:\n",
    "\n",
    "def square_value(number):\n",
    "    return number ** 2\n",
    "\n",
    "number = float(input(\"Enter a number: \"))\n",
    "result = square_value(number)\n",
    "print(f\"The square of {number} is: {result}\")"
   ]
  },
  {
   "cell_type": "code",
   "execution_count": 50,
   "id": "154cc99d-a9f4-48e6-bf37-6ebc1099c15d",
   "metadata": {},
   "outputs": [
    {
     "name": "stdout",
     "output_type": "stream",
     "text": [
      "Documentation for 'abs':\n",
      "Return the absolute value of the argument.\n",
      "\n",
      "Documentation for 'int':\n",
      "int([x]) -> integer\n",
      "int(x, base=10) -> integer\n",
      "\n",
      "Convert a number or string to an integer, or return 0 if no arguments\n",
      "are given.  If x is a number, return x.__int__().  For floating point\n",
      "numbers, this truncates towards zero.\n",
      "\n",
      "If x is not a number or if base is given, then x must be a string,\n",
      "bytes, or bytearray instance representing an integer literal in the\n",
      "given base.  The literal can be preceded by '+' or '-' and be surrounded\n",
      "by whitespace.  The base defaults to 10.  Valid bases are 0 and 2-36.\n",
      "Base 0 means to interpret the base from the string as an integer literal.\n",
      ">>> int('0b100', base=0)\n",
      "4\n",
      "\n",
      "Documentation for 'input':\n",
      "Forward raw_input to frontends\n",
      "\n",
      "        Raises\n",
      "        ------\n",
      "        StdinNotImplementedError if active frontend doesn't support stdin.\n",
      "        \n",
      "\n",
      "Documentation for 'MyClass':\n",
      "None\n",
      "\n",
      "Documentation for '__init__' method:\n",
      "None\n"
     ]
    }
   ],
   "source": [
    "#Question no 24:\n",
    "\n",
    "def documentation():\n",
    "    \n",
    "    print(\"Documentation for 'abs':\")\n",
    "    print(abs.__doc__)\n",
    "    print(\"\\nDocumentation for 'int':\")\n",
    "    print(int.__doc__)\n",
    "    print(\"\\nDocumentation for 'input':\")\n",
    "    print(input.__doc__)\n",
    "\n",
    "    class MyClass:\n",
    "\n",
    "        def __init__(self):\n",
    "            self.instance_parameter = None\n",
    "    print(\"\\nDocumentation for 'MyClass':\")\n",
    "    print(MyClass.__doc__)\n",
    "    print(\"\\nDocumentation for '__init__' method:\")\n",
    "    print(MyClass.__init__.__doc__)\n",
    "\n",
    "documentation()\n"
   ]
  },
  {
   "cell_type": "code",
   "execution_count": 31,
   "id": "a1643a98-4c49-48c9-a0b4-076b4e1258f5",
   "metadata": {},
   "outputs": [],
   "source": [
    "#Question no 25:\n",
    "\n",
    "def compute_sum(num1, num2):\n",
    "    result = num1 + num2\n",
    "    return result\n"
   ]
  },
  {
   "cell_type": "code",
   "execution_count": 32,
   "id": "637b52d8-105c-4037-9a7c-41eb686094d2",
   "metadata": {},
   "outputs": [
    {
     "name": "stdout",
     "output_type": "stream",
     "text": [
      "The sum is: 15\n"
     ]
    }
   ],
   "source": [
    "result = compute_sum(6,9)\n",
    "print(\"The sum is:\", result)"
   ]
  },
  {
   "cell_type": "code",
   "execution_count": 48,
   "id": "63c5546c-4e93-4841-a3ee-476b21efda6d",
   "metadata": {},
   "outputs": [],
   "source": [
    "#Question no  26:\n",
    "\n",
    "def integer_as_string(n):\n",
    "    print(str(n))\n"
   ]
  },
  {
   "cell_type": "code",
   "execution_count": 49,
   "id": "aae9fd4b-3a73-452e-8ee2-1c096c832dcb",
   "metadata": {},
   "outputs": [
    {
     "name": "stdout",
     "output_type": "stream",
     "text": [
      "788\n"
     ]
    }
   ],
   "source": [
    "integer_as_string(788)"
   ]
  },
  {
   "cell_type": "code",
   "execution_count": 44,
   "id": "717fa364-9a24-4b5c-907c-7a0727df6bfa",
   "metadata": {},
   "outputs": [],
   "source": [
    "#Question no 27:\n",
    "\n",
    "def sum(num1_str, num2_str):\n",
    "    print(int(num1_str) + int(num2_str))"
   ]
  },
  {
   "cell_type": "code",
   "execution_count": 45,
   "id": "d408e539-f612-4141-8085-b88104e1a2f2",
   "metadata": {},
   "outputs": [
    {
     "name": "stdout",
     "output_type": "stream",
     "text": [
      "8\n"
     ]
    }
   ],
   "source": [
    "sum(\"3\", \"5\")"
   ]
  },
  {
   "cell_type": "code",
   "execution_count": 46,
   "id": "7c41d9fb-7f3b-4f40-b2f7-6767bd291a61",
   "metadata": {},
   "outputs": [],
   "source": [
    "#Question no 28:\n",
    "\n",
    "def print_strings(str1, str2):\n",
    "    concatenated_string = str1 + str2\n",
    "    print(\"Concatenated string:\", concatenated_string)\n"
   ]
  },
  {
   "cell_type": "code",
   "execution_count": 47,
   "id": "7b35a8e3-2f92-46dd-828d-fb980817d889",
   "metadata": {},
   "outputs": [
    {
     "name": "stdout",
     "output_type": "stream",
     "text": [
      "Concatenated string: HelloWorld\n"
     ]
    }
   ],
   "source": [
    "print_strings(\"Hello\", \"World\")"
   ]
  },
  {
   "cell_type": "code",
   "execution_count": 53,
   "id": "d00ffb1f-f943-4993-9d8f-c2f68a2ca228",
   "metadata": {},
   "outputs": [
    {
     "name": "stdin",
     "output_type": "stream",
     "text": [
      "Enter string 1:  hello\n",
      "Enter string 2:  pakistan\n"
     ]
    },
    {
     "name": "stdout",
     "output_type": "stream",
     "text": [
      "pakistan\n"
     ]
    }
   ],
   "source": [
    "#Question no 29:\n",
    "\n",
    "def print_string(str1, str2):\n",
    "    if len(str1) > len(str2):\n",
    "        print(str1)\n",
    "    elif len(str2) > len(str1):\n",
    "        print(str2)\n",
    "    else:\n",
    "        print(str1)\n",
    "        print(str2)\n",
    "        \n",
    "string1 = input(\"Enter string 1: \")\n",
    "string2 = input(\"Enter string 2: \")\n",
    "print_string(string1, string2)"
   ]
  },
  {
   "cell_type": "code",
   "execution_count": 61,
   "id": "00b9d840-752a-443e-a172-8915e490d6bf",
   "metadata": {},
   "outputs": [
    {
     "name": "stdout",
     "output_type": "stream",
     "text": [
      "{1: 1, 2: 4, 3: 9, 4: 16, 5: 25, 6: 36, 7: 49, 8: 64, 9: 81, 10: 100, 11: 121, 12: 144, 13: 169, 14: 196, 15: 225, 16: 256, 17: 289, 18: 324, 19: 361, 20: 400}\n"
     ]
    }
   ],
   "source": [
    "#Question no 30:\n",
    "\n",
    "def dictionary():\n",
    "    result_dict = {}\n",
    "    for num in range(1, 21):\n",
    "        result_dict[num] = num ** 2\n",
    "    print(result_dict)\n",
    "dictionary()"
   ]
  },
  {
   "cell_type": "code",
   "execution_count": 77,
   "id": "13bc910a-3644-4ea5-8f15-3f6a9d1953a1",
   "metadata": {},
   "outputs": [
    {
     "name": "stdout",
     "output_type": "stream",
     "text": [
      "1\n",
      "2\n",
      "3\n",
      "4\n",
      "5\n",
      "6\n",
      "7\n",
      "8\n",
      "9\n",
      "10\n",
      "11\n",
      "12\n",
      "13\n",
      "14\n",
      "15\n",
      "16\n",
      "17\n",
      "18\n",
      "19\n",
      "20\n"
     ]
    }
   ],
   "source": [
    "#Question no 31:\n",
    "\n",
    "def square_dict_keys():\n",
    "    square_dict = {}  \n",
    "    for i in range(1, 21):\n",
    "        square_dict[i] = i ** 2 \n",
    "    for key in square_dict.keys():  \n",
    "        print(key) \n",
    "        \n",
    "square_dict_keys()"
   ]
  },
  {
   "cell_type": "code",
   "execution_count": 63,
   "id": "56c208c4-fcf7-4fea-bb8a-b92dc59d5d6d",
   "metadata": {},
   "outputs": [
    {
     "name": "stdout",
     "output_type": "stream",
     "text": [
      "[1, 4, 9, 16, 25, 36, 49, 64, 81, 100, 121, 144, 169, 196, 225, 256, 289, 324, 361, 400]\n"
     ]
    }
   ],
   "source": [
    "#Question no 31:\n",
    "\n",
    "def list():\n",
    "    squared_list = []\n",
    "    for num in range(1, 21):\n",
    "        squared_list.append(num ** 2)\n",
    "    print(squared_list)\n",
    "\n",
    "list()"
   ]
  },
  {
   "cell_type": "code",
   "execution_count": 64,
   "id": "3667616a-97e9-484f-a966-d9abf0004810",
   "metadata": {},
   "outputs": [
    {
     "name": "stdout",
     "output_type": "stream",
     "text": [
      "[1, 4, 9, 16, 25]\n"
     ]
    }
   ],
   "source": [
    "#Question no 33:\n",
    "\n",
    "def first_five_squared():\n",
    "    squared_list = []\n",
    "    for num in range(1, 21):\n",
    "        squared_list.append(num ** 2)\n",
    "    print(squared_list[0:5])\n",
    "\n",
    "first_five_squared()\n"
   ]
  },
  {
   "cell_type": "code",
   "execution_count": 74,
   "id": "90d16c22-5c52-4bf3-89bf-c0831644aa8a",
   "metadata": {},
   "outputs": [
    {
     "name": "stdout",
     "output_type": "stream",
     "text": [
      "[256, 289, 324, 361, 400]\n"
     ]
    }
   ],
   "source": [
    "#Question no 34:\n",
    "\n",
    "\n",
    "def last_five_squared():\n",
    "    squared_list = []\n",
    "    for num in range(1, 21):\n",
    "        squared_list.append(num ** 2) \n",
    "    print(squared_list[-5:])\n",
    "\n",
    "last_five_squared()\n"
   ]
  },
  {
   "cell_type": "code",
   "execution_count": 75,
   "id": "2582abd3-79e8-44b4-b2d5-c62b01ad6b1b",
   "metadata": {},
   "outputs": [
    {
     "name": "stdout",
     "output_type": "stream",
     "text": [
      "[36, 49, 64, 81, 100, 121, 144, 169, 196, 225, 256, 289, 324, 361, 400]\n"
     ]
    }
   ],
   "source": [
    "#Question no 35:\n",
    "\n",
    "def except_first_five_squared():\n",
    "    squared_list = [] \n",
    "    for num in range(1, 21): \n",
    "        squared_list.append(num ** 2) \n",
    "    print(squared_list[5:]) \n",
    "\n",
    "except_first_five_squared()\n"
   ]
  },
  {
   "cell_type": "code",
   "execution_count": 76,
   "id": "6627d1e9-a516-4b53-8a1b-3b8d5ecdca92",
   "metadata": {},
   "outputs": [
    {
     "name": "stdout",
     "output_type": "stream",
     "text": [
      "(1, 4, 9, 16, 25, 36, 49, 64, 81, 100, 121, 144, 169, 196, 225, 256, 289, 324, 361, 400)\n"
     ]
    }
   ],
   "source": [
    "#Question no 36:\n",
    "\n",
    "def square_tuple():\n",
    "    squares = [] \n",
    "    for i in range(1, 21): \n",
    "        squares.append(i ** 2)\n",
    "    square_tuple = tuple(squares) \n",
    "    print(square_tuple) \n",
    "\n",
    "square_tuple()\n"
   ]
  },
  {
   "cell_type": "code",
   "execution_count": 78,
   "id": "0e854f87-b476-4134-b97b-df0678477394",
   "metadata": {},
   "outputs": [
    {
     "name": "stdout",
     "output_type": "stream",
     "text": [
      "First half: (1, 2, 3, 4, 5)\n",
      "Last half: (6, 7, 8, 9, 10)\n"
     ]
    }
   ],
   "source": [
    "#Question no 37:\n",
    "\n",
    "\n",
    "given_tuple = (1, 2, 3, 4, 5, 6, 7, 8, 9, 10)\n",
    "\n",
    "split_index = len(given_tuple) // 2\n",
    "\n",
    "print(\"First half:\", given_tuple[:split_index])\n",
    "\n",
    "print(\"Last half:\", given_tuple[split_index:])\n"
   ]
  },
  {
   "cell_type": "code",
   "execution_count": 79,
   "id": "d2590e56-4df9-4dcd-9bc5-ba29f1b7595c",
   "metadata": {},
   "outputs": [
    {
     "name": "stdout",
     "output_type": "stream",
     "text": [
      "Tuple with even numbers: (2, 4, 6, 8, 10)\n"
     ]
    }
   ],
   "source": [
    "#Question no 38:\n",
    "\n",
    "given_tuple = (1, 2, 3, 4, 5, 6, 7, 8, 9, 10)\n",
    "\n",
    "even_numbers = []\n",
    "\n",
    "for num in given_tuple:\n",
    "    if num % 2 == 0:\n",
    "        even_numbers.append(num)\n",
    "even_numbers_tuple = tuple(even_numbers)\n",
    "print(\"Tuple with even numbers:\", even_numbers_tuple)\n"
   ]
  },
  {
   "cell_type": "code",
   "execution_count": 84,
   "id": "f056d087-c7cf-4b9d-bd9e-421b330cd069",
   "metadata": {},
   "outputs": [
    {
     "name": "stdin",
     "output_type": "stream",
     "text": [
      "Enter a string:  Yes\n"
     ]
    },
    {
     "name": "stdout",
     "output_type": "stream",
     "text": [
      "Yes\n"
     ]
    }
   ],
   "source": [
    "#Question no 39:\n",
    "\n",
    "input_string = input(\"Enter a string: \")\n",
    "if input_string.lower() == \"yes\":\n",
    "    print(\"Yes\")\n",
    "else:\n",
    "    print(\"No\")\n"
   ]
  },
  {
   "cell_type": "code",
   "execution_count": 1,
   "id": "a575337b-45f6-44b6-a3ec-a37f760e2a27",
   "metadata": {},
   "outputs": [
    {
     "name": "stdout",
     "output_type": "stream",
     "text": [
      "[1, 4, 9, 16, 25, 36, 49, 64, 81, 100]\n"
     ]
    }
   ],
   "source": [
    "#question no 40:\n",
    "\n",
    "numbers = [1, 2, 3, 4, 5, 6, 7, 8, 9, 10]\n",
    "squares = list(map(lambda x: x**2, numbers))\n",
    "print(squares)"
   ]
  },
  {
   "cell_type": "code",
   "execution_count": 2,
   "id": "f4025d21-9c1d-4012-ad3d-4c6c27c72f91",
   "metadata": {},
   "outputs": [
    {
     "name": "stdout",
     "output_type": "stream",
     "text": [
      "[4, 16, 36, 64, 100]\n"
     ]
    }
   ],
   "source": [
    "#Question no 41:\n",
    "\n",
    "\n",
    "numbers = [1, 2, 3, 4, 5, 6, 7, 8, 9, 10]\n",
    "even_squares = list(map(lambda x: x**2, filter(lambda x: x%2==0, numbers)))\n",
    "print(even_squares)"
   ]
  },
  {
   "cell_type": "code",
   "execution_count": 3,
   "id": "a9c35bb1-a633-41b7-93c9-ed54366dfe53",
   "metadata": {},
   "outputs": [
    {
     "name": "stdout",
     "output_type": "stream",
     "text": [
      "[2, 4, 6, 8, 10, 12, 14, 16, 18, 20]\n"
     ]
    }
   ],
   "source": [
    "#Question no 42:\n",
    "\n",
    "even_numbers = list(filter(lambda x: x%2==0, range(1, 21)))\n",
    "print(even_numbers)"
   ]
  },
  {
   "cell_type": "code",
   "execution_count": 4,
   "id": "d82907fa-77a9-4daf-8ab3-219c746ebd90",
   "metadata": {},
   "outputs": [
    {
     "name": "stdout",
     "output_type": "stream",
     "text": [
      "[1, 4, 9, 16, 25, 36, 49, 64, 81, 100, 121, 144, 169, 196, 225, 256, 289, 324, 361, 400]\n"
     ]
    }
   ],
   "source": [
    "#Question no 43:\n",
    "\n",
    "squares = list(map(lambda x: x**2, range(1, 21)))\n",
    "print(squares)"
   ]
  },
  {
   "cell_type": "code",
   "execution_count": 5,
   "id": "052a2d72-3da3-4ae1-9b44-cbf290f3f0b8",
   "metadata": {},
   "outputs": [],
   "source": [
    "#Question no 44:\n",
    "\n",
    "class American:\n",
    "    @staticmethod\n",
    "    def printNationality():\n",
    "        print(\"American\")"
   ]
  },
  {
   "cell_type": "code",
   "execution_count": 8,
   "id": "f9fa7606-328b-4511-b816-5002751c6e70",
   "metadata": {},
   "outputs": [
    {
     "name": "stdout",
     "output_type": "stream",
     "text": [
      "American\n"
     ]
    }
   ],
   "source": [
    "American.printNationality()"
   ]
  },
  {
   "cell_type": "code",
   "execution_count": 13,
   "id": "ae0ca29f-1909-4c96-97d1-880a5150732a",
   "metadata": {},
   "outputs": [],
   "source": [
    "#Question no 45:\n",
    "\n",
    "class American:\n",
    "    def __init__(self, name):\n",
    "        self.name = name\n",
    "\n",
    "    def greet(self):\n",
    "        return f\"Hello, I'm {self.name}, an American.\"\n",
    "\n",
    "class NewYorker(American):\n",
    "    pass"
   ]
  },
  {
   "cell_type": "code",
   "execution_count": 14,
   "id": "18a75169-439b-42ea-a520-f8ec84b177b7",
   "metadata": {},
   "outputs": [
    {
     "name": "stdout",
     "output_type": "stream",
     "text": [
      "Hello, I'm John, an American.\n",
      "Hello, I'm Alice, an American.\n"
     ]
    }
   ],
   "source": [
    "american = American(\"John\")\n",
    "print(american.greet())\n",
    "\n",
    "new_yorker = NewYorker(\"Alice\")\n",
    "print(new_yorker.greet())"
   ]
  },
  {
   "cell_type": "code",
   "execution_count": 17,
   "id": "200eeabc-7b6e-4050-8585-aefdddf445e3",
   "metadata": {},
   "outputs": [],
   "source": [
    "#Question no 46:\n",
    "\n",
    "class Circle:\n",
    "    def __init__(self, radius):\n",
    "        self.radius = radius\n",
    "\n",
    "    def compute_area(self):\n",
    "        return 3.14 * self.radius ** 2"
   ]
  },
  {
   "cell_type": "code",
   "execution_count": 18,
   "id": "e1d4ee16-f1fa-42a0-a5f6-21331738b534",
   "metadata": {},
   "outputs": [
    {
     "name": "stdout",
     "output_type": "stream",
     "text": [
      "Area of the circle: 78.5\n"
     ]
    }
   ],
   "source": [
    "circle = Circle(5)\n",
    "print(\"Area of the circle:\", circle.compute_area())"
   ]
  },
  {
   "cell_type": "code",
   "execution_count": 20,
   "id": "2ee92622-baf4-4069-9d8f-898eaf71da3d",
   "metadata": {},
   "outputs": [],
   "source": [
    "#Question no 47:\n",
    "\n",
    "class Rectangle:\n",
    "    def __init__(self, length, width):\n",
    "        self.length = length\n",
    "        self.width = width\n",
    "\n",
    "    def compute_area(self):\n",
    "        return self.length * self.width"
   ]
  },
  {
   "cell_type": "code",
   "execution_count": 21,
   "id": "f1293e4a-0429-474d-a882-c7b938e0de86",
   "metadata": {},
   "outputs": [
    {
     "name": "stdout",
     "output_type": "stream",
     "text": [
      "Area of the rectangle: 20\n"
     ]
    }
   ],
   "source": [
    "rectangle = Rectangle(4, 5)\n",
    "print(\"Area of the rectangle:\", rectangle.compute_area())"
   ]
  },
  {
   "cell_type": "code",
   "execution_count": 22,
   "id": "375e7583-bb8d-4455-98b3-bb02fadeed0d",
   "metadata": {},
   "outputs": [],
   "source": [
    "#Question no 48:\n",
    "\n",
    "class Shape:\n",
    "    def area(self):\n",
    "        return 0\n",
    "\n",
    "class Square(Shape):\n",
    "    def __init__(self, length):\n",
    "        self.length = length\n",
    "    \n",
    "    def area(self):\n",
    "        return self.length ** 2"
   ]
  },
  {
   "cell_type": "code",
   "execution_count": 23,
   "id": "6a119063-549d-4666-a8fe-2c6fac6f1b78",
   "metadata": {},
   "outputs": [
    {
     "name": "stdout",
     "output_type": "stream",
     "text": [
      "Area of the shape: 0\n",
      "Area of the square: 25\n"
     ]
    }
   ],
   "source": [
    "shape = Shape()\n",
    "print(\"Area of the shape:\", shape.area())\n",
    "\n",
    "square = Square(5)\n",
    "print(\"Area of the square:\", square.area())\n"
   ]
  },
  {
   "cell_type": "code",
   "execution_count": 25,
   "id": "8fc9dbf1-bb6a-4922-863b-8e72c1911529",
   "metadata": {},
   "outputs": [
    {
     "name": "stdout",
     "output_type": "stream",
     "text": [
      "Error: Cannot divide by zero!\n"
     ]
    }
   ],
   "source": [
    "#Question no 49:\n",
    "\n",
    "def divide_numbers(num1, num2):\n",
    "    if num2 == 0:\n",
    "        raise RuntimeError(\"Cannot divide by zero!\")\n",
    "    return num1 / num2\n",
    "\n",
    "try:\n",
    "    result = divide_numbers(10, 0)\n",
    "except RuntimeError as e:\n",
    "    print(\"Error:\", e)\n"
   ]
  },
  {
   "cell_type": "code",
   "execution_count": 27,
   "id": "1c96cdd5-6393-4c0d-90be-953b3fefed90",
   "metadata": {},
   "outputs": [
    {
     "name": "stdout",
     "output_type": "stream",
     "text": [
      "Error: Division by zero!\n"
     ]
    }
   ],
   "source": [
    "#Question no 50:\n",
    "\n",
    "def divide_by_zero():\n",
    "    try:\n",
    "        result = 5 / 0\n",
    "        print(\"Result of division:\", result)\n",
    "    except ZeroDivisionError:\n",
    "        print(\"Error: Division by zero!\")\n",
    "\n",
    "divide_by_zero()\n"
   ]
  },
  {
   "cell_type": "code",
   "execution_count": 31,
   "id": "6f3eb634-ebac-4233-a6b5-1c02a7d66aa6",
   "metadata": {},
   "outputs": [],
   "source": [
    "#Question no 51:\n",
    "\n",
    "class CustomException(Exception):\n",
    "    def __init__(self, message):\n",
    "        self.message = message"
   ]
  },
  {
   "cell_type": "code",
   "execution_count": 36,
   "id": "caa53a62-5946-490f-9a56-5f79ca433244",
   "metadata": {},
   "outputs": [
    {
     "name": "stdout",
     "output_type": "stream",
     "text": [
      "CustomException: This is a custom exception message.\n"
     ]
    }
   ],
   "source": [
    "try:\n",
    "    raise CustomException(\"This is a custom exception message.\")\n",
    "except CustomException as ex:\n",
    "    print(\"CustomException:\", ex.message)\n"
   ]
  },
  {
   "cell_type": "code",
   "execution_count": 47,
   "id": "f414946a-d0be-40e5-bd71-f93dd5f11903",
   "metadata": {},
   "outputs": [
    {
     "name": "stdin",
     "output_type": "stream",
     "text": [
      "Enter an email address:  john@google.com\n"
     ]
    },
    {
     "name": "stdout",
     "output_type": "stream",
     "text": [
      "john\n"
     ]
    }
   ],
   "source": [
    "#Question no 52:\n",
    "\n",
    "import re\n",
    "\n",
    "email = input(\"Enter an email address: \")\n",
    "username = re.search(r'^(\\w+)@', email).group(1)\n",
    "\n",
    "print(username)"
   ]
  },
  {
   "cell_type": "code",
   "execution_count": 46,
   "id": "f9554659-5748-410f-9873-ec7fa9ae813a",
   "metadata": {},
   "outputs": [
    {
     "name": "stdin",
     "output_type": "stream",
     "text": [
      "Enter an email address:  john@google.com\n"
     ]
    },
    {
     "name": "stdout",
     "output_type": "stream",
     "text": [
      "google\n"
     ]
    }
   ],
   "source": [
    "#Question no 53:\n",
    "\n",
    "import re\n",
    "\n",
    "email = input(\"Enter an email address: \")\n",
    "\n",
    "company_name = re.search(r'@(\\w+)\\.', email).group(1)\n",
    "\n",
    "print(company_name)"
   ]
  },
  {
   "cell_type": "code",
   "execution_count": 45,
   "id": "b5448088-cb95-4049-adf7-14161ec2a1b1",
   "metadata": {},
   "outputs": [
    {
     "name": "stdin",
     "output_type": "stream",
     "text": [
      "Enter a sequence of words:  2 cats 3 dogs\n"
     ]
    },
    {
     "name": "stdout",
     "output_type": "stream",
     "text": [
      "['2', '3']\n"
     ]
    }
   ],
   "source": [
    "#Question no 54:\n",
    "\n",
    "import re\n",
    "\n",
    "user_input = input(\"Enter a sequence of words: \")\n",
    "\n",
    "digit_words = re.findall(r'\\b\\d+\\b', user_input)\n",
    "print(digit_words)"
   ]
  },
  {
   "cell_type": "code",
   "execution_count": 50,
   "id": "c184eba6-9a7e-46c4-9748-92c31ada3d22",
   "metadata": {},
   "outputs": [
    {
     "name": "stdout",
     "output_type": "stream",
     "text": [
      "\"hello world\"\n"
     ]
    }
   ],
   "source": [
    "#Question no 55:\n",
    "\n",
    "unicode_string = u'hello world'\n",
    "print(f'\"{unicode_string}\"')"
   ]
  },
  {
   "cell_type": "code",
   "execution_count": 51,
   "id": "e1eb8f0d-5a3e-4548-a40d-992b86d5f2cd",
   "metadata": {},
   "outputs": [
    {
     "name": "stdin",
     "output_type": "stream",
     "text": [
      "Enter an ASCII string:  Hello, world!\n"
     ]
    },
    {
     "name": "stdout",
     "output_type": "stream",
     "text": [
      "Hello, world!\n"
     ]
    }
   ],
   "source": [
    "#Question no 56:\n",
    "\n",
    "ascii_string = input(\"Enter an ASCII string: \")\n",
    "\n",
    "unicode_string = ascii_string.encode('utf-8')\n",
    "\n",
    "print(unicode_string.decode('utf-8'))\n"
   ]
  },
  {
   "cell_type": "code",
   "execution_count": 52,
   "id": "40e8f6b8-7a21-4e17-aa4c-992988fb4088",
   "metadata": {},
   "outputs": [
    {
     "name": "stdout",
     "output_type": "stream",
     "text": [
      "Hello, World!\n"
     ]
    }
   ],
   "source": [
    "#Question no 57:\n",
    "\n",
    "# -*- coding: utf-8 -*-\n",
    "print(u\"Hello, World!\")"
   ]
  },
  {
   "cell_type": "code",
   "execution_count": 53,
   "id": "5ac01fd2-3277-4c42-a615-923cf9735931",
   "metadata": {},
   "outputs": [
    {
     "name": "stdin",
     "output_type": "stream",
     "text": [
      "Enter a positive integer:  5\n"
     ]
    },
    {
     "name": "stdout",
     "output_type": "stream",
     "text": [
      "The sum of the series is: 3.5500000000000003\n"
     ]
    }
   ],
   "source": [
    "#Question no 58:\n",
    "\n",
    "n = int(input(\"Enter a positive integer: \"))\n",
    "\n",
    "total = 0.0\n",
    "\n",
    "for i in range(1, n+1):\n",
    "\ttotal += float(i) / (i + 1)\n",
    "\n",
    "print(\"The sum of the series is:\", total)"
   ]
  },
  {
   "cell_type": "code",
   "execution_count": 54,
   "id": "f3684e55-c9f6-4144-b11f-a573c9afaa3b",
   "metadata": {},
   "outputs": [
    {
     "name": "stdin",
     "output_type": "stream",
     "text": [
      "Enter a positive integer:  5\n"
     ]
    },
    {
     "name": "stdout",
     "output_type": "stream",
     "text": [
      "The result is: 500\n"
     ]
    }
   ],
   "source": [
    "#Question no 59:\n",
    "\n",
    "def f(n):\n",
    "\tif n <= 0:\n",
    "\t\treturn 0\n",
    "\telse:\n",
    "\t\treturn f(n-1) + 100\n",
    "\n",
    "n = int(input(\"Enter a positive integer: \"))\n",
    "print(\"The result is:\", f(n))"
   ]
  },
  {
   "cell_type": "code",
   "execution_count": 55,
   "id": "55237140-432c-4a38-b2c1-8563efdd3335",
   "metadata": {},
   "outputs": [
    {
     "name": "stdin",
     "output_type": "stream",
     "text": [
      "Enter a positive integer:  7\n"
     ]
    },
    {
     "name": "stdout",
     "output_type": "stream",
     "text": [
      "The result is: 13\n"
     ]
    }
   ],
   "source": [
    "#Question no 60:\n",
    "\n",
    "def fibonacci(n):\n",
    "\tif n <= 1:\n",
    "\t\treturn n\n",
    "\telse:\n",
    "\t\treturn fibonacci(n-1) + fibonacci(n-2)\n",
    "        \n",
    "n = int(input(\"Enter a positive integer: \"))\n",
    "\n",
    "print(\"The result is:\", fibonacci(n))"
   ]
  },
  {
   "cell_type": "code",
   "execution_count": 56,
   "id": "7113528a-7155-444d-a0a1-fcd19954236c",
   "metadata": {},
   "outputs": [
    {
     "name": "stdin",
     "output_type": "stream",
     "text": [
      "Enter a positive integer:  7\n"
     ]
    },
    {
     "name": "stdout",
     "output_type": "stream",
     "text": [
      "0, 1, 1, 2, 3, 5, 8, 13\n"
     ]
    }
   ],
   "source": [
    "#Question no 61:\n",
    "\n",
    "def fibonacci(n):\n",
    "\tif n == 0:\n",
    "\t\treturn 0\n",
    "\telif n == 1:\n",
    "\t\treturn 1\n",
    "\telse:\n",
    "\t\treturn fibonacci(n-1) + fibonacci(n-2)\n",
    "\n",
    "n = int(input(\"Enter a positive integer: \"))\n",
    "\n",
    "result = [str(fibonacci(i)) for i in range(n+1)]\n",
    "print(\", \".join(result))"
   ]
  },
  {
   "cell_type": "code",
   "execution_count": 57,
   "id": "ede81727-8c63-40a5-bcdb-7d22fe602b28",
   "metadata": {},
   "outputs": [
    {
     "name": "stdin",
     "output_type": "stream",
     "text": [
      "Enter a positive integer:  10\n"
     ]
    },
    {
     "name": "stdout",
     "output_type": "stream",
     "text": [
      "0, 2, 4, 6, 8, 10\n"
     ]
    }
   ],
   "source": [
    "#Question no 62:\n",
    "\n",
    "def even_numbers(n):\n",
    "\tfor i in range(n+1):\n",
    "\t\tif i % 2 == 0:\n",
    "\t\t\tyield i\n",
    "\n",
    "n = int(input(\"Enter a positive integer: \"))\n",
    "\n",
    "print(\", \".join(str(x) for x in even_numbers(n)))"
   ]
  },
  {
   "cell_type": "code",
   "execution_count": 59,
   "id": "1ff8bcc0-1b86-44f4-bdd7-6956d3dd00cb",
   "metadata": {},
   "outputs": [
    {
     "name": "stdin",
     "output_type": "stream",
     "text": [
      "Enter a positive integer:  100\n"
     ]
    },
    {
     "name": "stdout",
     "output_type": "stream",
     "text": [
      "0, 35, 70\n"
     ]
    }
   ],
   "source": [
    "#Question no 63:\n",
    "\n",
    "def divisible_by_5_and_7(n):\n",
    "\tfor i in range(n+1):\n",
    "\t\tif i % 5 == 0 and i % 7 == 0:\n",
    "\t\t\tyield i\n",
    "\n",
    "n = int(input(\"Enter a positive integer: \"))\n",
    "\n",
    "print(\", \".join(str(x) for x in divisible_by_5_and_7(n))) "
   ]
  },
  {
   "cell_type": "code",
   "execution_count": 62,
   "id": "1a779931-e20c-41d5-98a7-df3b3135ddc0",
   "metadata": {},
   "outputs": [
    {
     "name": "stdout",
     "output_type": "stream",
     "text": [
      "All numbers are even.\n"
     ]
    }
   ],
   "source": [
    "#Question no 64:\n",
    "\n",
    "numbers = [2, 4, 6, 8]\n",
    "\n",
    "for num in numbers:\n",
    "    assert num % 2 == 0\n",
    "\n",
    "print(\"All numbers are even.\")\n"
   ]
  },
  {
   "cell_type": "code",
   "execution_count": 63,
   "id": "b4ad6db3-5356-49dc-b3d4-42847c1e7b9b",
   "metadata": {},
   "outputs": [
    {
     "name": "stdin",
     "output_type": "stream",
     "text": [
      "Enter a mathematical expression:  35 + 3\n"
     ]
    },
    {
     "name": "stdout",
     "output_type": "stream",
     "text": [
      "The result is: 38\n"
     ]
    }
   ],
   "source": [
    "#Question no 65:\n",
    "\n",
    "expression = input(\"Enter a mathematical expression: \")\n",
    "result = eval(expression)\n",
    "print(\"The result is:\", result)"
   ]
  },
  {
   "cell_type": "code",
   "execution_count": 4,
   "id": "e5353f65-3d34-425b-ac31-147400b02f0b",
   "metadata": {},
   "outputs": [],
   "source": [
    "#Question no 65:\n",
    "\n",
    "def binary_search(sorted_list, target):\n",
    "    low = 0\n",
    "    high = len(sorted_list) - 1\n",
    "\n",
    "    while low <= high:\n",
    "        mid = (low + high) // 2\n",
    "        if sorted_list[mid] == target:\n",
    "            return mid\n",
    "        elif sorted_list[mid] < target:\n",
    "            low = mid + 1\n",
    "        elif sorted_list[mid] > target:\n",
    "            high = mid - 1\n",
    "        else:\n",
    "            return -1  # Return -1 if the target is not found\n",
    "\n",
    "    return -1  # Return -1 if the target is not found\n"
   ]
  },
  {
   "cell_type": "code",
   "execution_count": 5,
   "id": "39590e19-b95a-4abd-86f7-dce1a085e432",
   "metadata": {},
   "outputs": [
    {
     "name": "stdout",
     "output_type": "stream",
     "text": [
      "4\n"
     ]
    }
   ],
   "source": [
    "sorted_list = [1, 2, 3, 4, 5, 6, 7, 8, 9]\n",
    "target = 5\n",
    "index = binary_search(sorted_list, target)\n",
    "print(index)"
   ]
  },
  {
   "cell_type": "code",
   "execution_count": 12,
   "id": "59788fd1-ac53-4fc8-b18b-174c90c0a09f",
   "metadata": {},
   "outputs": [
    {
     "name": "stdout",
     "output_type": "stream",
     "text": [
      "10.01\n"
     ]
    }
   ],
   "source": [
    "#Question no 66:\n",
    "\n",
    "import random\n",
    "\n",
    "random_float = round(random.random() * 90 + 10, 2)\n",
    "print(random_float)"
   ]
  },
  {
   "cell_type": "code",
   "execution_count": 16,
   "id": "a114f585-a0cf-4ac6-a84a-e91413dc6846",
   "metadata": {},
   "outputs": [
    {
     "name": "stdout",
     "output_type": "stream",
     "text": [
      "86.96421203957952\n"
     ]
    }
   ],
   "source": [
    "#Question no 67:\n",
    "\n",
    "import random\n",
    "\n",
    "random_float = random.random() * (95 - 5) + 5\n",
    "print(random_float)"
   ]
  },
  {
   "cell_type": "code",
   "execution_count": 9,
   "id": "8b921c74-315e-4709-849d-b6560bc8aa4a",
   "metadata": {},
   "outputs": [
    {
     "name": "stdout",
     "output_type": "stream",
     "text": [
      "2\n"
     ]
    }
   ],
   "source": [
    "#Question no 68:\n",
    "\n",
    "import random\n",
    "\n",
    "even_numbers = [0, 2, 4, 6, 8, 10]\n",
    "random_even_number = random.choice(even_numbers)\n",
    "print(random_even_number)"
   ]
  },
  {
   "cell_type": "code",
   "execution_count": null,
   "id": "956aabff-38f9-4ad3-b0fe-f32a04004b2a",
   "metadata": {},
   "outputs": [],
   "source": [
    "#Question no 69:\n",
    "\n",
    "import random\n",
    "\n",
    "numbers = [i for i in range(10, 151) if i % 5 == 0 and i % 7 == 0]\n",
    "random_number = random.choice(numbers)\n",
    "print(random_number)"
   ]
  },
  {
   "cell_type": "code",
   "execution_count": 17,
   "id": "eb2ec77b-c0cc-4982-a4ce-90322209739d",
   "metadata": {},
   "outputs": [
    {
     "name": "stdout",
     "output_type": "stream",
     "text": [
      "[167, 117, 118, 146, 107]\n"
     ]
    }
   ],
   "source": [
    "#Question no 70:\n",
    "\n",
    "import random\n",
    "\n",
    "random_list = random.sample(range(100, 201), 5)\n",
    "print(random_list)"
   ]
  },
  {
   "cell_type": "code",
   "execution_count": 23,
   "id": "1bc0e004-54f4-4a30-9dcc-8ae6dde47a8c",
   "metadata": {},
   "outputs": [
    {
     "name": "stdout",
     "output_type": "stream",
     "text": [
      "[174, 138, 116, 102, 122]\n"
     ]
    }
   ],
   "source": [
    "#Question no 71:\n",
    "\n",
    "even_numbers = [i for i in range(100, 201) if i % 2 == 0]\n",
    "random_list = random.sample(even_numbers, 5)\n",
    "print(random_list)"
   ]
  },
  {
   "cell_type": "code",
   "execution_count": 22,
   "id": "dd836894-82da-4e7f-8d51-495d84424b31",
   "metadata": {},
   "outputs": [
    {
     "name": "stdout",
     "output_type": "stream",
     "text": [
      "[910, 630, 35, 525, 595]\n"
     ]
    }
   ],
   "source": [
    "#Question no 72:\n",
    "\n",
    "import random\n",
    "\n",
    "numbers = [i for i in range(1, 1001) if i % 5 == 0 and i % 7 == 0]\n",
    "random_list = random.sample(numbers, 5)\n",
    "print(random_list)"
   ]
  },
  {
   "cell_type": "code",
   "execution_count": 25,
   "id": "ea781ef5-7dd3-4049-a4ec-60649aa3c8fc",
   "metadata": {},
   "outputs": [
    {
     "name": "stdout",
     "output_type": "stream",
     "text": [
      "8\n"
     ]
    }
   ],
   "source": [
    "#Question no 73:\n",
    "\n",
    "import random\n",
    "\n",
    "random_number = random.randrange(7, 16)\n",
    "print(random_number)"
   ]
  },
  {
   "cell_type": "code",
   "execution_count": 27,
   "id": "caff29cf-1f7e-496c-a555-515c51a295f5",
   "metadata": {},
   "outputs": [
    {
     "name": "stdout",
     "output_type": "stream",
     "text": [
      "Compressed string (bytes): b'x\\x9c\\xcbH\\xcd\\xc9\\xc9W(\\xcf/\\xcaIQ\\xcc \\x82\\r\\x00\\xbd[\\x11\\xf5'\n",
      "Decompressed string (original): hello world!hello world!hello world!hello world!\n"
     ]
    }
   ],
   "source": [
    "#Question no 74:\n",
    "\n",
    "import zlib\n",
    "\n",
    "original_string = \"hello world!hello world!hello world!hello world!\"\n",
    "\n",
    "compressed_string = zlib.compress(original_string.encode())\n",
    "\n",
    "print(\"Compressed string (bytes):\", compressed_string)\n",
    "\n",
    "decompressed_string = zlib.decompress(compressed_string).decode()\n",
    "\n",
    "print(\"Decompressed string (original):\", decompressed_string)"
   ]
  },
  {
   "cell_type": "code",
   "execution_count": 30,
   "id": "c05730ed-ccd3-47b1-b185-95cb79787ea4",
   "metadata": {},
   "outputs": [
    {
     "name": "stdout",
     "output_type": "stream",
     "text": [
      "Running time of execution (seconds): 1.7700003809295595e-05\n"
     ]
    }
   ],
   "source": [
    "#Question no 75:\n",
    "\n",
    "import timeit\n",
    "\n",
    "def add_one():\n",
    "\tfor i in range(100):\n",
    "\t\t1+1\n",
    "\n",
    "running_time = timeit.timeit(add_one, number=1)\n",
    "print(\"Running time of execution (seconds):\", running_time)"
   ]
  },
  {
   "cell_type": "code",
   "execution_count": 32,
   "id": "20a13b4a-6ef9-4924-99c1-ba64b7167de0",
   "metadata": {},
   "outputs": [
    {
     "name": "stdout",
     "output_type": "stream",
     "text": [
      "Shuffled list: [7, 8, 6, 3]\n"
     ]
    }
   ],
   "source": [
    "#Question no 76:\n",
    "\n",
    "import random\n",
    "\n",
    "my_list = [3, 6, 7, 8]\n",
    "random.shuffle(my_list)\n",
    "print(\"Shuffled list:\", my_list)"
   ]
  },
  {
   "cell_type": "code",
   "execution_count": 35,
   "id": "307322be-7a86-42bc-aa07-b6bf6057f846",
   "metadata": {},
   "outputs": [
    {
     "name": "stdout",
     "output_type": "stream",
     "text": [
      "I Play Hockey\n",
      "I Play Football\n",
      "I Love Hockey\n",
      "I Love Football\n",
      "You Play Hockey\n",
      "You Play Football\n",
      "You Love Hockey\n",
      "You Love Football\n"
     ]
    }
   ],
   "source": [
    "#Question no 77:\n",
    "\n",
    "subjects = [\"I\", \"You\"]\n",
    "verbs = [\"Play\", \"Love\"]\n",
    "objects = [\"Hockey\", \"Football\"]\n",
    "\n",
    "for i in range(2):\n",
    "\tfor j in range(2):\n",
    "\t\tfor k in range(2):\n",
    "\t\t\tsentence = f\"{subjects[i]} {verbs[j]} {objects[k]}\"\n",
    "\t\t\tprint(sentence)"
   ]
  },
  {
   "cell_type": "code",
   "execution_count": 37,
   "id": "ce201788-5220-40a1-929b-5d71ef962601",
   "metadata": {},
   "outputs": [
    {
     "name": "stdout",
     "output_type": "stream",
     "text": [
      "[5, 77, 45]\n"
     ]
    }
   ],
   "source": [
    "#Question no 78:\n",
    "\n",
    "numbers = [5, 6, 77, 45, 22, 12, 24]\n",
    "numbers = [num for i, num in enumerate(numbers) if num % 2 != 0]\n",
    "print(numbers)"
   ]
  },
  {
   "cell_type": "code",
   "execution_count": 38,
   "id": "0fd3daca-8a30-4978-965c-cd9a33e04c29",
   "metadata": {},
   "outputs": [
    {
     "name": "stdout",
     "output_type": "stream",
     "text": [
      "[12, 24, 88]\n"
     ]
    }
   ],
   "source": [
    "#Question no 79:\n",
    "\n",
    "numbers = [12, 24, 35, 70, 88, 120, 155]\n",
    "numbers = [num for i, num in enumerate(numbers) if not (num % 5 == 0 or num % 7 == 0)]\n",
    "print(numbers)"
   ]
  },
  {
   "cell_type": "code",
   "execution_count": 39,
   "id": "a137021b-a7d2-4e26-80a9-41113aa1c7e1",
   "metadata": {},
   "outputs": [
    {
     "name": "stdout",
     "output_type": "stream",
     "text": [
      "[24, 70, 120]\n"
     ]
    }
   ],
   "source": [
    "#Question no 80:\n",
    "\n",
    "numbers = [12, 24, 35, 70, 88, 120, 155]\n",
    "numbers = [num for i, num in enumerate(numbers) if i % 2 != 0]\n",
    "print(numbers)"
   ]
  },
  {
   "cell_type": "code",
   "execution_count": 44,
   "id": "9ce5f3b4-511a-4d49-a65a-4d1e43c4df15",
   "metadata": {},
   "outputs": [
    {
     "name": "stdout",
     "output_type": "stream",
     "text": [
      "[12, 24, 88, 120, 155]\n"
     ]
    }
   ],
   "source": [
    "#Question no 81:\n",
    "\n",
    "numbers = [12, 24, 35, 70, 88, 120, 155]\n",
    "numbers = [num for i, num in enumerate(numbers) if i not in [2, 3]]\n",
    "print(numbers)"
   ]
  },
  {
   "cell_type": "code",
   "execution_count": 41,
   "id": "202246ff-ef90-4172-98de-8dad858ba858",
   "metadata": {},
   "outputs": [
    {
     "name": "stdout",
     "output_type": "stream",
     "text": [
      "[[[0, 0, 0, 0, 0, 0, 0, 0], [0, 0, 0, 0, 0, 0, 0, 0], [0, 0, 0, 0, 0, 0, 0, 0], [0, 0, 0, 0, 0, 0, 0, 0], [0, 0, 0, 0, 0, 0, 0, 0]], [[0, 0, 0, 0, 0, 0, 0, 0], [0, 0, 0, 0, 0, 0, 0, 0], [0, 0, 0, 0, 0, 0, 0, 0], [0, 0, 0, 0, 0, 0, 0, 0], [0, 0, 0, 0, 0, 0, 0, 0]], [[0, 0, 0, 0, 0, 0, 0, 0], [0, 0, 0, 0, 0, 0, 0, 0], [0, 0, 0, 0, 0, 0, 0, 0], [0, 0, 0, 0, 0, 0, 0, 0], [0, 0, 0, 0, 0, 0, 0, 0]]]\n"
     ]
    }
   ],
   "source": [
    "#Question no 82:\n",
    "\n",
    "array_3d = [[[0 for _ in range(8)] for _ in range(5)] for _ in range(3)]\n",
    "print(array_3d)"
   ]
  },
  {
   "cell_type": "code",
   "execution_count": 56,
   "id": "e54b0937-bd7a-4bab-b89c-4af9253975f3",
   "metadata": {},
   "outputs": [
    {
     "name": "stdout",
     "output_type": "stream",
     "text": [
      "[24, 35, 70, 155]\n"
     ]
    }
   ],
   "source": [
    "#Question no 83:\n",
    "\n",
    "numbers = [12, 24, 35, 70, 88, 120, 155]\n",
    "numbers = [num for i, num in enumerate(numbers) if i not in [0, 4, 5]]\n",
    "print(numbers)"
   ]
  },
  {
   "cell_type": "code",
   "execution_count": 45,
   "id": "2d2794c9-fcd2-4214-b7b0-0f3bca75f1ec",
   "metadata": {},
   "outputs": [
    {
     "name": "stdout",
     "output_type": "stream",
     "text": [
      "[12, 35, 88, 120, 155]\n"
     ]
    }
   ],
   "source": [
    "#Question no 84:\n",
    "\n",
    "numbers = [12, 24, 35, 24, 88, 120, 155]\n",
    "numbers = [num for num in numbers if num != 24]\n",
    "print(numbers)"
   ]
  },
  {
   "cell_type": "code",
   "execution_count": 46,
   "id": "5ca3e6d0-b471-4caf-92cf-236efb970410",
   "metadata": {},
   "outputs": [
    {
     "name": "stdout",
     "output_type": "stream",
     "text": [
      "[35]\n"
     ]
    }
   ],
   "source": [
    "#Question no 85:\n",
    "\n",
    "list1 = [1, 3, 6, 78, 35, 55]\n",
    "list2 = [12, 24, 35, 24, 88, 120, 155]\n",
    "\n",
    "set1 = set(list1)\n",
    "set2 = set(list2)\n",
    "\n",
    "intersection_set = set1 & set2\n",
    "\n",
    "result_list = list(intersection_set)\n",
    "\n",
    "print(result_list)"
   ]
  },
  {
   "cell_type": "code",
   "execution_count": 47,
   "id": "49db3e22-208f-4d48-8eec-b1c06ec997b7",
   "metadata": {},
   "outputs": [
    {
     "name": "stdout",
     "output_type": "stream",
     "text": [
      "[12, 24, 35, 88, 120, 155]\n"
     ]
    }
   ],
   "source": [
    "#Question no 86:\n",
    "\n",
    "numbers = [12, 24, 35, 24, 88, 120, 155, 88, 120, 155]\n",
    "\n",
    "unique_numbers = set()\n",
    "result = [num for num in numbers if not (num in unique_numbers or unique_numbers.add(num))]\n",
    "print(result)"
   ]
  },
  {
   "cell_type": "code",
   "execution_count": 53,
   "id": "8767afff-ed4d-46b2-a770-28e97ca38830",
   "metadata": {},
   "outputs": [],
   "source": [
    "#Question no 87:\n",
    "\n",
    "class Person:\n",
    "    def getGender(self):\n",
    "        return \"Unknown\"\n",
    "\n",
    "class Male(Person):\n",
    "    def getGender(self):\n",
    "        return \"Male\"\n",
    "\n",
    "class Female(Person):\n",
    "    def getGender(self):\n",
    "        return \"Female\"\n"
   ]
  },
  {
   "cell_type": "code",
   "execution_count": 55,
   "id": "1c144c54-e14a-40e2-b539-1094621c767d",
   "metadata": {},
   "outputs": [
    {
     "name": "stdout",
     "output_type": "stream",
     "text": [
      "Male\n"
     ]
    }
   ],
   "source": [
    "person1 = Male()\n",
    "print(person1.getGender()) "
   ]
  },
  {
   "cell_type": "code",
   "execution_count": 57,
   "id": "2133948e-b4b3-4c8e-8877-f54fa999114a",
   "metadata": {},
   "outputs": [
    {
     "name": "stdin",
     "output_type": "stream",
     "text": [
      "Enter a string:  abcdefgabc\n"
     ]
    },
    {
     "name": "stdout",
     "output_type": "stream",
     "text": [
      "a,2\n",
      "b,2\n",
      "c,2\n",
      "d,1\n",
      "e,1\n",
      "f,1\n",
      "g,1\n"
     ]
    }
   ],
   "source": [
    "#Question no  88:\n",
    "\n",
    "input_string = input(\"Enter a string: \")\n",
    "\n",
    "char_counts = {}\n",
    "for char in input_string:\n",
    "\tif char in char_counts:\n",
    "\t\tchar_counts[char] += 1\n",
    "\telse:\n",
    "\t\tchar_counts[char] = 1\n",
    "for char, count in char_counts.items():\n",
    "\tprint(char + \",\" + str(count))"
   ]
  },
  {
   "cell_type": "code",
   "execution_count": 58,
   "id": "078733c9-cf41-4bfd-9a19-47728fb4359b",
   "metadata": {},
   "outputs": [
    {
     "name": "stdin",
     "output_type": "stream",
     "text": [
      "Enter a string:  rise to vote sir\n"
     ]
    },
    {
     "name": "stdout",
     "output_type": "stream",
     "text": [
      "sir vote to rise\n"
     ]
    }
   ],
   "source": [
    "#Question no 89:\n",
    "\n",
    "input_string = input(\"Enter a string: \")\n",
    "words = input_string.split()\n",
    "reversed_words = words[::-1]\n",
    "reversed_string = ' '.join(reversed_words)\n",
    "print(reversed_string)"
   ]
  },
  {
   "cell_type": "code",
   "execution_count": 60,
   "id": "2db2c7c8-7011-4648-8b75-20219a098556",
   "metadata": {},
   "outputs": [
    {
     "name": "stdin",
     "output_type": "stream",
     "text": [
      "Enter a string:  H1e2l3l4o5w6o7r8l9d\n"
     ]
    },
    {
     "name": "stdout",
     "output_type": "stream",
     "text": [
      "Helloworld"
     ]
    }
   ],
   "source": [
    "#Question no 90:\n",
    "\n",
    "input_string = input(\"Enter a string: \")\n",
    "\n",
    "even_index_chars = input_string[::2]\n",
    "\n",
    "for char in even_index_chars:\n",
    "\tprint(char, end=\"\")"
   ]
  },
  {
   "cell_type": "code",
   "execution_count": 64,
   "id": "4d834d29-508d-497b-8787-3a707d29fbae",
   "metadata": {},
   "outputs": [
    {
     "name": "stdout",
     "output_type": "stream",
     "text": [
      "[1, 2, 3]\n",
      "[1, 3, 2]\n",
      "[2, 1, 3]\n",
      "[2, 3, 1]\n",
      "[3, 1, 2]\n",
      "[3, 2, 1]\n"
     ]
    }
   ],
   "source": [
    "#Question no 91:\n",
    "\n",
    "from itertools import permutations\n",
    "nums = [1, 2, 3]\n",
    "for perm in permutations(nums):\n",
    "    print(list(perm))\n"
   ]
  },
  {
   "cell_type": "code",
   "execution_count": 65,
   "id": "67146e52-4d33-4df7-8cba-ab2fec634383",
   "metadata": {},
   "outputs": [
    {
     "name": "stdout",
     "output_type": "stream",
     "text": [
      "We have 23 chickens and 12 rabbits.\n"
     ]
    }
   ],
   "source": [
    "#Question no 92:\n",
    "\n",
    "for chickens in range(36):\n",
    "    for rabbits in range(36):\n",
    "        if chickens + rabbits == 35 and 2 * chickens + 4 * rabbits == 94:\n",
    "            print(f\"We have {chickens} chickens and {rabbits} rabbits.\")"
   ]
  },
  {
   "cell_type": "code",
   "execution_count": 68,
   "id": "aefffd05-6e89-4f3b-88ff-6ffb40d0e71f",
   "metadata": {},
   "outputs": [
    {
     "name": "stdin",
     "output_type": "stream",
     "text": [
      " 5 2 3 6 6 5\n"
     ]
    },
    {
     "name": "stdout",
     "output_type": "stream",
     "text": [
      "5\n"
     ]
    }
   ],
   "source": [
    "#Question no 93:\n",
    "\n",
    "scores = list(map(int, input().split()))\n",
    "unique_scores = list(set(scores))\n",
    "unique_scores.sort()\n",
    "if len(unique_scores) < 2:\n",
    "    print(\"There is no runner up score\")\n",
    "else:\n",
    "    print(unique_scores[-2])"
   ]
  },
  {
   "cell_type": "code",
   "execution_count": 67,
   "id": "6011504d-cd81-4d0e-9f0a-b40225457da9",
   "metadata": {},
   "outputs": [
    {
     "name": "stdout",
     "output_type": "stream",
     "text": [
      "ABCD\n",
      "EFGH\n",
      "IJKL\n",
      "MNOP\n",
      "QRST\n",
      "UVWX\n",
      "YZ\n"
     ]
    }
   ],
   "source": [
    "#Question no 94:\n",
    "\n",
    "import textwrap\n",
    "\n",
    "string = \"ABCDEFGHIJKLMNOPQRSTUVWXYZ\"\n",
    "width = 4\n",
    "\n",
    "print(textwrap.fill(string, width))"
   ]
  },
  {
   "cell_type": "code",
   "execution_count": 76,
   "id": "d79e9749-ab1e-46be-b366-ad4cd1071098",
   "metadata": {},
   "outputs": [],
   "source": [
    "#Question no 95:\n",
    "\n",
    "def print_rangoli(size):\n",
    "    import string\n",
    "    alphabet = string.ascii_lowercase\n",
    "    \n",
    "    lines = []\n",
    "    width = (size - 1) * 4 + 1  \n",
    "\n",
    "    for i in range(size):\n",
    "        left_part = '-'.join(alphabet[size-j-1] for j in range(i+1))\n",
    "        full_part = left_part[::-1][1:] \n",
    "        full_line = left_part + full_part\n",
    "        lines.append(full_line.center(width, '-'))\n",
    "        \n",
    "    for line in lines:\n",
    "        print(line)\n",
    "    for line in reversed(lines[:-1]): \n",
    "        print(line)\n"
   ]
  },
  {
   "cell_type": "code",
   "execution_count": 77,
   "id": "e6c45e32-5391-4d6a-880e-ee3662801537",
   "metadata": {},
   "outputs": [
    {
     "name": "stdout",
     "output_type": "stream",
     "text": [
      "--------e--------\n",
      "------e-d-e------\n",
      "----e-d-c-d-e----\n",
      "--e-d-c-b-c-d-e--\n",
      "e-d-c-b-a-b-c-d-e\n",
      "--e-d-c-b-c-d-e--\n",
      "----e-d-c-d-e----\n",
      "------e-d-e------\n",
      "--------e--------\n"
     ]
    }
   ],
   "source": [
    "size = 5\n",
    "print_rangoli(size)"
   ]
  },
  {
   "cell_type": "code",
   "execution_count": 81,
   "id": "db5bbd65-8d87-4dc4-ae05-8f5f8820b0e7",
   "metadata": {},
   "outputs": [
    {
     "name": "stdin",
     "output_type": "stream",
     "text": [
      " 08 05 2015\n"
     ]
    },
    {
     "name": "stdout",
     "output_type": "stream",
     "text": [
      "WEDNESDAY\n"
     ]
    }
   ],
   "source": [
    "#Question no 96:\n",
    "\n",
    "import calendar\n",
    "\n",
    "month, day, year = input().split()\n",
    "month = int(month)\n",
    "day = int(day)\n",
    "year = int(year)\n",
    "day_index = calendar.weekday(year, month, day)\n",
    "day_name = calendar.day_name[day_index].upper()\n",
    "print(day_name)\n"
   ]
  },
  {
   "cell_type": "code",
   "execution_count": 1,
   "id": "93f2af6f-30c7-48b5-b46c-a54f03e103e9",
   "metadata": {},
   "outputs": [
    {
     "name": "stdin",
     "output_type": "stream",
     "text": [
      " 4\n",
      " 2 4 5 9\n",
      " 2\n",
      " 2 4 11 12\n"
     ]
    },
    {
     "name": "stdout",
     "output_type": "stream",
     "text": [
      "5\n",
      "9\n",
      "11\n",
      "12\n"
     ]
    }
   ],
   "source": [
    "#Question no 97:\n",
    "\n",
    "M = int(input())\n",
    "M_set = set(map(int, input().split()))\n",
    "N = int(input())\n",
    "N_set = set(map(int, input().split()))\n",
    "\n",
    "symmetric_diff = M_set ^ N_set\n",
    "for num in sorted(symmetric_diff):\n",
    "    print(num)"
   ]
  },
  {
   "cell_type": "code",
   "execution_count": 3,
   "id": "bbd5cfcb-8458-4bc5-b47d-62bcd95e62b2",
   "metadata": {},
   "outputs": [
    {
     "name": "stdin",
     "output_type": "stream",
     "text": [
      " 4\n",
      " bcdef\n",
      " abcdefg\n",
      " bcde\n",
      " bcdef\n"
     ]
    },
    {
     "name": "stdout",
     "output_type": "stream",
     "text": [
      "3\n",
      "2 1 1\n"
     ]
    }
   ],
   "source": [
    "#Question no 98:\n",
    "\n",
    "n = int(input().strip())\n",
    "\n",
    "words_order = []\n",
    "word_count = {}\n",
    "for _ in range(n):\n",
    "    word = input().strip()\n",
    "    words_order.append(word)\n",
    "    if word in word_count:\n",
    "        word_count[word] += 1\n",
    "    else:\n",
    "        word_count[word] = 1\n",
    "print(len(word_count))\n",
    "print(\" \".join(map(str, word_count.values())))"
   ]
  },
  {
   "cell_type": "code",
   "execution_count": 5,
   "id": "e6f83459-72c6-492a-b355-03a8b4467a52",
   "metadata": {},
   "outputs": [
    {
     "name": "stdin",
     "output_type": "stream",
     "text": [
      " aabbbccde\n"
     ]
    },
    {
     "name": "stdout",
     "output_type": "stream",
     "text": [
      "b 3\n",
      "a 2\n",
      "c 2\n",
      "d 1\n",
      "e 1\n"
     ]
    }
   ],
   "source": [
    "#Question no 99:\n",
    "\n",
    "string = input()\n",
    "frequency = {}\n",
    "for letter in string:\n",
    "    if letter in frequency:\n",
    "        frequency[letter] += 1\n",
    "    else:\n",
    "        frequency[letter] = 1\n",
    "\n",
    "for letter, count in sorted(frequency.items(), key=lambda x: x[1], reverse=True):\n",
    "    print(f\"{letter} {count}\")"
   ]
  },
  {
   "cell_type": "code",
   "execution_count": 6,
   "id": "ff4865de-df46-4006-87ac-4e3de3049934",
   "metadata": {},
   "outputs": [
    {
     "name": "stdin",
     "output_type": "stream",
     "text": [
      " Hello321Bye360\n"
     ]
    },
    {
     "name": "stdout",
     "output_type": "stream",
     "text": [
      "Digit - 6\n",
      "Letter - 8\n"
     ]
    }
   ],
   "source": [
    "#Question no 100:\n",
    "\n",
    "string = input()\n",
    "\n",
    "digit_count = sum(char.isdigit() for char in string)\n",
    "letter_count = sum(char.isalpha() for char in string)\n",
    "\n",
    "print(f\"Digit - {digit_count}\")\n",
    "print(f\"Letter - {letter_count}\")"
   ]
  },
  {
   "cell_type": "code",
   "execution_count": 7,
   "id": "68de2276-2185-4adf-83a0-79538b15ac78",
   "metadata": {},
   "outputs": [
    {
     "name": "stdin",
     "output_type": "stream",
     "text": [
      " 5\n"
     ]
    },
    {
     "name": "stdout",
     "output_type": "stream",
     "text": [
      "15\n"
     ]
    }
   ],
   "source": [
    "#Question no 101:\n",
    "\n",
    "def sum_to_n(n):\n",
    "\tif n == 1:\n",
    "\t\treturn 1\n",
    "\telse:\n",
    "\t\treturn n + sum_to_n(n-1)\n",
    "\n",
    "N = int(input())\n",
    "print(sum_to_n(N))"
   ]
  },
  {
   "cell_type": "code",
   "execution_count": null,
   "id": "0d5a2536-96b3-4b0f-b22a-d704770eaf7f",
   "metadata": {},
   "outputs": [],
   "source": []
  }
 ],
 "metadata": {
  "kernelspec": {
   "display_name": "Python 3 (ipykernel)",
   "language": "python",
   "name": "python3"
  },
  "language_info": {
   "codemirror_mode": {
    "name": "ipython",
    "version": 3
   },
   "file_extension": ".py",
   "mimetype": "text/x-python",
   "name": "python",
   "nbconvert_exporter": "python",
   "pygments_lexer": "ipython3",
   "version": "3.11.7"
  }
 },
 "nbformat": 4,
 "nbformat_minor": 5
}
